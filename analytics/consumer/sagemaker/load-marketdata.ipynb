{
 "cells": [
  {
   "cell_type": "markdown",
   "metadata": {
    "jupyter": {
     "outputs_hidden": true
    }
   },
   "source": [
    "# Load crypto market data"
   ]
  },
  {
   "cell_type": "code",
   "execution_count": null,
   "metadata": {
    "scrolled": true
   },
   "outputs": [],
   "source": [
    "!git clone https://github.com/binance/binance-public-data.git"
   ]
  },
  {
   "cell_type": "code",
   "execution_count": null,
   "metadata": {},
   "outputs": [],
   "source": [
    "fromDate='2017-08-01'\n",
    "toDate='2022-08-31'"
   ]
  },
  {
   "cell_type": "code",
   "execution_count": null,
   "metadata": {
    "scrolled": true
   },
   "outputs": [],
   "source": [
    "!python3 binance-public-data/python/download-kline.py -t spot -s BTCUSDT -i 1m -startDate 2017-08-01 -endDate 2022-08-31 -skip-daily 1 -folder ~/marketdata/btc/\n",
    "!python3 binance-public-data/python/download-kline.py -t spot -s ETHUSDT -i 1m -startDate 2017-08-01 -endDate 2022-08-31 -skip-daily 1 -folder ~/marketdata/eth/"
   ]
  },
  {
   "cell_type": "code",
   "execution_count": null,
   "metadata": {
    "scrolled": true
   },
   "outputs": [],
   "source": [
    "import zipfile, os\n",
    "\n",
    "def unzipFiles(sym,ticker):\n",
    "    working_directory = '/root/marketdata/'+sym+'/data/spot/monthly/klines/'+ticker+'/1m/'+fromDate+'_'+toDate+'/'\n",
    "    for file in os.listdir(working_directory):   # get the list of files\n",
    "        print(file)\n",
    "        if zipfile.is_zipfile(working_directory+file): # if it is a zipfile, extract it\n",
    "            with zipfile.ZipFile(working_directory+file) as item: # treat the file as a zip\n",
    "                print(item)\n",
    "                item.extractall('marketdata/'+sym)\n",
    "\n",
    "unzipFiles('btc','BTCUSDT')\n",
    "unzipFiles('eth','ETHUSDT')"
   ]
  },
  {
   "cell_type": "code",
   "execution_count": null,
   "metadata": {},
   "outputs": [],
   "source": [
    "S3_BUCKET=!(aws cloudformation list-exports --query \"Exports[?Name=='public-blockchain-marketdata'].Value\" --output text)\n",
    "S3_BUCKET=S3_BUCKET[0]"
   ]
  },
  {
   "cell_type": "code",
   "execution_count": null,
   "metadata": {
    "scrolled": true
   },
   "outputs": [],
   "source": [
    "!pip install awswrangler"
   ]
  },
  {
   "cell_type": "code",
   "execution_count": null,
   "metadata": {
    "scrolled": true
   },
   "outputs": [],
   "source": [
    "import zipfile, os\n",
    "import boto3\n",
    "import pandas as pd\n",
    "import awswrangler as wr\n",
    "from datetime import datetime\n",
    "\n",
    "s3_path='s3://'+S3_BUCKET+\"/marketdata/crypto\"\n",
    "\n",
    "def importFiles(sym,ticker):\n",
    "    for file in os.listdir(\"marketdata/\"+sym+\"/\"):   # get the list of files\n",
    "        if file.endswith(\".csv\"): # check for \".zip\" extension\n",
    "            file_name = 'marketdata/'+sym+'/'+file # get full path of files\n",
    "            #print(file_name)\n",
    "            x=file_name.split('/')[-1:][0].split(\".\")[0]\n",
    "            #print(x)\n",
    "            \n",
    "            hData=['open_time','open','high','low','close','vol','close_time','quote_asset_vol','number_of_trades','taker_base_asset_vol','taker_quote_asset_vol','ignore']\n",
    "            df=pd.read_csv(file_name,header=0,names=hData,parse_dates=True)\n",
    "            df['open_time'] = [datetime.fromtimestamp(x/1000) for x in df['open_time']]\n",
    "            df['close_time'] = [datetime.fromtimestamp(x/1000) for x in df['close_time']]\n",
    "            df['ticker']=ticker\n",
    "            df.set_index(pd.DatetimeIndex(df['open_time']), inplace=True)\n",
    "       \n",
    "            s3_file=s3_path+'/'+x+'.snappy.parquet'\n",
    "            print(\"upload to %s\" % s3_file)\n",
    "            r=wr.s3.to_parquet(\n",
    "                    df=df,\n",
    "                    path=s3_file,\n",
    "                    dataset=False\n",
    "            )\n",
    "\n",
    "importFiles('btc','BTCUSDT')\n",
    "importFiles('eth','ETHUSDT')"
   ]
  },
  {
   "cell_type": "code",
   "execution_count": null,
   "metadata": {},
   "outputs": [],
   "source": []
  }
 ],
 "metadata": {
  "instance_type": "ml.t3.medium",
  "kernelspec": {
   "display_name": "Python 3 (Data Science)",
   "language": "python",
   "name": "python3__SAGEMAKER_INTERNAL__arn:aws:sagemaker:us-west-2:236514542706:image/datascience-1.0"
  },
  "language_info": {
   "codemirror_mode": {
    "name": "ipython",
    "version": 3
   },
   "file_extension": ".py",
   "mimetype": "text/x-python",
   "name": "python",
   "nbconvert_exporter": "python",
   "pygments_lexer": "ipython3",
   "version": "3.7.10"
  }
 },
 "nbformat": 4,
 "nbformat_minor": 4
}
