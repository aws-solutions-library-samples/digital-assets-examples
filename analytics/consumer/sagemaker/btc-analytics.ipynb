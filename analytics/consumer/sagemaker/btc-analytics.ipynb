{
 "cells": [
  {
   "cell_type": "markdown",
   "metadata": {},
   "source": [
    "# AWS Public Blockchain - BTC Examples"
   ]
  },
  {
   "cell_type": "code",
   "execution_count": null,
   "metadata": {
    "scrolled": true
   },
   "outputs": [],
   "source": [
    "pip install PyAthena"
   ]
  },
  {
   "cell_type": "code",
   "execution_count": null,
   "metadata": {},
   "outputs": [],
   "source": [
    "import boto3\n",
    "import pandas as pd\n",
    "from pyathena import connect"
   ]
  },
  {
   "cell_type": "code",
   "execution_count": null,
   "metadata": {},
   "outputs": [],
   "source": [
    "S3_BUCKET=!(aws cloudformation list-exports --query \"Exports[?Name=='public-blockchain-data-athena'].Value\" --output text)\n",
    "S3_BUCKET=S3_BUCKET[0]"
   ]
  },
  {
   "cell_type": "code",
   "execution_count": null,
   "metadata": {},
   "outputs": [],
   "source": [
    "conn = connect(s3_staging_dir='s3://'+S3_BUCKET+'/results/')"
   ]
  },
  {
   "cell_type": "markdown",
   "metadata": {},
   "source": [
    "### Get number of blocks"
   ]
  },
  {
   "cell_type": "code",
   "execution_count": null,
   "metadata": {},
   "outputs": [],
   "source": [
    "df = pd.read_sql(\"select count(*) as block_count from btc.blocks\", conn)\n",
    "df"
   ]
  },
  {
   "cell_type": "markdown",
   "metadata": {},
   "source": [
    "### Get number of transactions per date"
   ]
  },
  {
   "cell_type": "code",
   "execution_count": null,
   "metadata": {},
   "outputs": [],
   "source": [
    "df = pd.read_sql(\"select date,sum(transaction_count) as tx_count from btc.blocks group by date order by date\", conn)\n",
    "df"
   ]
  },
  {
   "cell_type": "markdown",
   "metadata": {},
   "source": [
    "### Get details for block by number"
   ]
  },
  {
   "cell_type": "code",
   "execution_count": null,
   "metadata": {},
   "outputs": [],
   "source": [
    "block_number=700000"
   ]
  },
  {
   "cell_type": "code",
   "execution_count": null,
   "metadata": {},
   "outputs": [],
   "source": [
    "df = pd.read_sql(\"select * from btc.blocks where number=\"+str(block_number), conn)\n",
    "df.iloc[0]"
   ]
  },
  {
   "cell_type": "markdown",
   "metadata": {},
   "source": [
    "### Get details for transaction by hash"
   ]
  },
  {
   "cell_type": "code",
   "execution_count": null,
   "metadata": {},
   "outputs": [],
   "source": [
    "tx_hash='c86aecd51212a81bfdb26077aaceb1d9822802bb48fb542e41502487060d7828'"
   ]
  },
  {
   "cell_type": "code",
   "execution_count": null,
   "metadata": {},
   "outputs": [],
   "source": [
    "df = pd.read_sql(\"select * from btc.transactions where hash='\"+tx_hash+\"'\", conn)\n",
    "df.iloc[0]"
   ]
  },
  {
   "cell_type": "markdown",
   "metadata": {},
   "source": [
    "### Get inputs by transaction hash"
   ]
  },
  {
   "cell_type": "code",
   "execution_count": null,
   "metadata": {},
   "outputs": [],
   "source": [
    "df = pd.read_sql(\"SELECT t.hash,\"+\n",
    "                 \"input.index as input_index,input.script_asm as input_script_asm,input.script_hex as input_script_hex,input.sequence as input_sequence,input.required_signatures as inputrequired_signatures,input.type as input_type,input.address as input_address,input.value as input_value from btc.transactions t,UNNEST(t.inputs) as t(input) \"+\n",
    "                 \"where t.hash='\"+tx_hash+\"' order by t.hash,input.index\", conn)\n",
    "df"
   ]
  },
  {
   "cell_type": "markdown",
   "metadata": {},
   "source": [
    "### Get outputs by transaction hash"
   ]
  },
  {
   "cell_type": "code",
   "execution_count": null,
   "metadata": {},
   "outputs": [],
   "source": [
    "df = pd.read_sql(\"SELECT t.hash,\"+\n",
    "                 \"output.index as output_index,output.script_asm as output_script_asm,output.script_hex as output_script_hex,output.required_signatures as output_required_signatures,output.type as output_type,output.address as output_address,output.value as output_value from btc.transactions t,UNNEST(t.outputs) as t(output) \"+\n",
    "                 \"where t.hash='\"+tx_hash+\"' order by t.hash,output.index\", conn)\n",
    "df"
   ]
  },
  {
   "cell_type": "markdown",
   "metadata": {},
   "source": [
    "### Get transaction inputs and outputs by transaction hash"
   ]
  },
  {
   "cell_type": "code",
   "execution_count": null,
   "metadata": {},
   "outputs": [],
   "source": [
    "df = pd.read_sql(\"SELECT A.*,B.input_index,B.input_script_asm,B.input_script_hex,B.input_type,B.input_address,B.input_value FROM (SELECT t.hash,t.size,t.virtual_size,t.version,t.lock_time,t.block_hash,t.block_number,t.block_timestamp,t.input_count,t.output_count,t.input_value,t.output_value,t.is_coinbase,t.fee,\"+\n",
    "                 \"output.index as output_index,output.script_asm as output_script_asm,output.script_hex as output_script_hex,output.required_signatures as output_required_signatures,output.type as output_type,output.address as output_address,output.value as output_value \"+\n",
    "                 \"from btc.transactions t,UNNEST(t.outputs) as t(output) \"+\n",
    "                 \"where t.hash='\"+tx_hash+\"') A FULL OUTER JOIN \"+\n",
    "                 \"(SELECT t.hash,\"+\n",
    "                 \"input.index as input_index,input.script_asm as input_script_asm,input.script_hex as input_script_hex,input.type as input_type,input.address as input_address,input.value as input_value from btc.transactions t,UNNEST(t.inputs) as t(input) \"+\n",
    "                 \"where t.hash='\"+tx_hash+\"' order by t.hash,input.index) B ON A.hash=B.hash and A.output_index=B.input_index order by A.hash,A.output_index\", conn)\n",
    "df"
   ]
  },
  {
   "cell_type": "markdown",
   "metadata": {},
   "source": [
    "## Charts\n",
    "\n",
    "### Fees over Time (in BTC)"
   ]
  },
  {
   "cell_type": "code",
   "execution_count": null,
   "metadata": {},
   "outputs": [],
   "source": [
    "%matplotlib inline\n",
    "df = pd.read_sql(\"select date,sum(fee) as fees from btc.transactions where date>='2018-06-01' and date<='2021-01-01' group by date\", conn)\n",
    "df.set_index(pd.DatetimeIndex(df['date']),inplace=True)\n",
    "del df['date']\n",
    "df[\"fees\"].plot(figsize=(15,8))"
   ]
  },
  {
   "cell_type": "markdown",
   "metadata": {},
   "source": [
    "### Transactions per Second"
   ]
  },
  {
   "cell_type": "code",
   "execution_count": null,
   "metadata": {},
   "outputs": [],
   "source": [
    "%matplotlib inline\n",
    "df = pd.read_sql(\"\"\"\n",
    "select date_trunc('month',cast(date as date)) as date, avg(transactions_per_sec) as transactions_per_sec from (\n",
    "    select date, cast(count(*) as double)/(24*60*60) as transactions_per_sec\n",
    "    from btc.transactions\n",
    "    where date>'2015-01-01'\n",
    "    group by date) group by  date_trunc('month',cast(date as date))\n",
    "\"\"\", conn)\n",
    "df.set_index(pd.DatetimeIndex(df['date']),inplace=True)\n",
    "del df['date']\n",
    "df[\"transactions_per_sec\"].plot(figsize=(15,8))"
   ]
  },
  {
   "cell_type": "markdown",
   "metadata": {},
   "source": [
    "### Historical Price Data "
   ]
  },
  {
   "cell_type": "code",
   "execution_count": null,
   "metadata": {},
   "outputs": [],
   "source": [
    "%matplotlib inline\n",
    "import matplotlib.pyplot as plt\n",
    "\n",
    "df = pd.read_sql(\"\"\"\n",
    "SELECT CAST(open_time AS DATE) as date,close FROM marketdata.crypto where ticker='BTCUSDT' and extract(MINUTE from open_time)=59 and extract(HOUR from open_time)=23 and open_time > TIMESTAMP '2021-01-01 00:00:00' order by open_time\n",
    "\"\"\", conn)\n",
    "df.set_index(pd.DatetimeIndex(df['date']),inplace=True)\n",
    "del df['date']\n",
    "\n",
    "plt.rcParams[\"figure.figsize\"] = (15,8)\n",
    "plt.plot(df.index, df['close'], color='orange')\n",
    "plt.title('Historical BTC Price', fontsize=14)\n",
    "plt.xlabel('Date', fontsize=14)\n",
    "plt.ylabel('USD', fontsize=14)\n",
    "plt.grid(True)\n",
    "plt.show()"
   ]
  },
  {
   "cell_type": "markdown",
   "metadata": {},
   "source": [
    "### Total Supply over Time"
   ]
  },
  {
   "cell_type": "code",
   "execution_count": null,
   "metadata": {},
   "outputs": [],
   "source": [
    "%matplotlib inline\n",
    "import matplotlib.pyplot as plt\n",
    "#(CASE WHEN number<210000 THEN 50 WHEN number<420000 THEN 25 WHEN number<630000 THEN 12.5 ELSE 6.25 END)\n",
    "df = pd.read_sql(\"\"\" \n",
    "select date, (CASE \n",
    "  WHEN number<210000 THEN 50*number\n",
    "  WHEN number<420000 THEN (210000-1)*50+25*(number-210000) \n",
    "  WHEN number<630000 THEN (210000-1)*50+25*210000+12.5*(number-420000)\n",
    "  ELSE (210000-1)*50+25*210000+12.5*210000+6.25*(number-630000) \n",
    "  END) as reward\n",
    "from (select cast(date as date) as date,max(number) as number from btc.blocks group by date) order by date \n",
    "\"\"\", conn)\n",
    "df.set_index(pd.DatetimeIndex(df['date']),inplace=True)\n",
    "del df['date']\n",
    "\n",
    "plt.rcParams[\"figure.figsize\"] = (15,8)\n",
    "plt.plot(df.index, df['reward'], color='blue')\n",
    "plt.title('Total Supply Over Time', fontsize=14)\n",
    "plt.xlabel('Date', fontsize=14)\n",
    "plt.ylabel('BTC', fontsize=14)\n",
    "plt.grid(True)\n",
    "plt.show()"
   ]
  },
  {
   "cell_type": "markdown",
   "metadata": {},
   "source": [
    "### Weekly Transaction Volume (USD) "
   ]
  },
  {
   "cell_type": "code",
   "execution_count": null,
   "metadata": {},
   "outputs": [],
   "source": [
    "%matplotlib inline\n",
    "import matplotlib.pyplot as plt\n",
    "\n",
    "df = pd.read_sql(\"\"\"\n",
    "WITH \n",
    "  daily_amt AS (SELECT cast(date AS date) AS date, sum(input_value) AS amt FROM btc. transactions where date>='2018-01-01' GROUP BY date),\n",
    "  daily_price as (SELECT cast(open_time AS DATE) AS date, close AS price FROM marketdata.crypto where ticker='BTCUSDT' and extract(MINUTE FROM open_time)=59 and extract(HOUR FROM open_time)=23 and open_time >= TIMESTAMP '2020-01-01 00:00:00')\n",
    "SELECT date_trunc('week', date) AS week, sum(transaction_volume) / 1000000000 AS transaction_volume, avg(price) AS price FROM (SELECT A.date, B.amt * A.price AS transaction_volume, a.price FROM daily_price A JOIN daily_amt B ON A.date=B.date) GROUP BY date_trunc('week', date) ORDER BY date_trunc('week',date) \n",
    "\"\"\", conn)\n",
    "df.set_index(pd.DatetimeIndex(df['week']),inplace=True)\n",
    "\n",
    "plt.rcParams[\"figure.figsize\"] = (13,6)\n",
    "plt.plot(df.index, df['transaction_volume'], color='blue')\n",
    "plt.title('Weekly Transaction Volume', fontsize=14)\n",
    "plt.xlabel('Week', fontsize=14)\n",
    "plt.ylabel('Volume', fontsize=14)\n",
    "plt.grid(True)\n",
    "plt.show()"
   ]
  },
  {
   "cell_type": "markdown",
   "metadata": {},
   "source": [
    "### Network Value to Transactions (NVT) Ratio"
   ]
  },
  {
   "cell_type": "code",
   "execution_count": null,
   "metadata": {},
   "outputs": [],
   "source": [
    "%matplotlib inline\n",
    "import matplotlib.pyplot as plt\n",
    "\n",
    "df = pd.read_sql(\"\"\"\n",
    "with daily_amt as \n",
    "  (select cast(date as date) as date,sum(input_value) as amt from btc.transactions where date>='2020-01-01' group by date),\n",
    "     daily_price as\n",
    "  (SELECT CAST(open_time AS DATE) as date,close as price FROM marketdata.crypto where ticker='BTCUSDT' and extract(MINUTE from open_time)=59 and extract(HOUR from open_time)=23 and open_time >= TIMESTAMP '2020-01-01 00:00:00'),\n",
    "    supply_amt as \n",
    "  (select date, (CASE \n",
    "  WHEN number<210000 THEN 50*number\n",
    "  WHEN number<420000 THEN (210000-1)*50+25*(number-210000) \n",
    "  WHEN number<630000 THEN (210000-1)*50+25*210000+12.5*(number-420000)\n",
    "  ELSE (210000-1)*50+25*210000+12.5*210000+6.25*(number-630000) \n",
    "  END) as supply\n",
    "  from (select cast(date as date) as date,max(number) as number from btc.blocks group by date) order by date) \n",
    "select A.date,(C.supply*A.price)/(B.amt*A.price) as nvt from daily_price A JOIN daily_amt B ON A.date=B.date JOIN supply_amt C ON B.date=C.date order by A.date\n",
    "\"\"\", conn)\n",
    "df.set_index(pd.DatetimeIndex(df['date']),inplace=True)\n",
    "del df['date']\n",
    "\n",
    "plt.rcParams[\"figure.figsize\"] = (15,8)\n",
    "plt.plot(df.index, df['nvt'], color='blue')\n",
    "plt.title('Network Value to Transactions (NVT) Ratio', fontsize=14)\n",
    "plt.xlabel('Date', fontsize=14)\n",
    "plt.ylabel('Ratio', fontsize=14)\n",
    "plt.grid(True)\n",
    "plt.show()"
   ]
  },
  {
   "cell_type": "code",
   "execution_count": null,
   "metadata": {},
   "outputs": [],
   "source": []
  }
 ],
 "metadata": {
  "instance_type": "ml.t3.medium",
  "kernelspec": {
   "display_name": "Python 3 (Data Science)",
   "language": "python",
   "name": "python3__SAGEMAKER_INTERNAL__arn:aws:sagemaker:us-east-1:081325390199:image/datascience-1.0"
  },
  "language_info": {
   "codemirror_mode": {
    "name": "ipython",
    "version": 3
   },
   "file_extension": ".py",
   "mimetype": "text/x-python",
   "name": "python",
   "nbconvert_exporter": "python",
   "pygments_lexer": "ipython3",
   "version": "3.7.10"
  }
 },
 "nbformat": 4,
 "nbformat_minor": 4
}
